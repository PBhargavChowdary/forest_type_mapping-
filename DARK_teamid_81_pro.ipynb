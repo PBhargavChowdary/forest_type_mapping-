{
 "cells": [
  {
   "cell_type": "code",
   "execution_count": 1,
   "id": "9bc8fe8d",
   "metadata": {},
   "outputs": [],
   "source": [
    "import pandas as pd\n",
    "import numpy as np\n",
    "import matplotlib.pyplot as plt\n",
    "from sklearn.linear_model import LogisticRegression\n",
    "from sklearn.model_selection import train_test_split\n",
    "from sklearn.metrics import confusion_matrix\n",
    "from sklearn.preprocessing import LabelEncoder\n",
    "from sklearn.metrics import accuracy_score,precision_score,recall_score\n",
    "from sklearn.tree import DecisionTreeClassifier\n",
    "import seaborn as sns"
   ]
  },
  {
   "cell_type": "code",
   "execution_count": 2,
   "id": "e90c60c1",
   "metadata": {},
   "outputs": [
    {
     "data": {
      "text/plain": [
       "'\\nproject name: forest type mapping\\nalogorithm used: logistic regression\\nwe need to predict class\\n steps we followed:\\n1.reading file\\n2.visualization dataset using graphs\\n3.checking for null values and droping them if any present in the dataset\\n4.checking for categorical columns dtype object present or not,if present labeling with label encounter\\n5.initializing variables y,x such that y is the thing which we need to predict(dependent) and x is the data which is independed\\n6.confusion matrix\\n7.accuracy check\\n8.other type of validation\\n\\npersonal info:\\nteam: DARK\\nproject id:21 \\nteam members:\\nname:                               reg_no:\\naisetty santosh pavan manikanta     39110026\\nammanaven vinay kumar               39110056\\nt. nitish kumar                     39111013\\n'"
      ]
     },
     "execution_count": 2,
     "metadata": {},
     "output_type": "execute_result"
    }
   ],
   "source": [
    "\"\"\"\n",
    "project name: forest type mapping\n",
    "alogorithm used: logistic regression\n",
    "we need to predict class\n",
    " steps we followed:\n",
    "1.reading file\n",
    "2.visualization dataset using graphs\n",
    "3.checking for null values and droping them if any present in the dataset\n",
    "4.checking for categorical columns dtype object present or not,if present labeling with label encounter\n",
    "5.initializing variables y,x such that y is the thing which we need to predict(dependent) and x is the data which is independed\n",
    "6.confusion matrix\n",
    "7.accuracy check\n",
    "8.other type of validation\n",
    "\n",
    "personal info:\n",
    "team: DARK\n",
    "project id:21 \n",
    "team members:\n",
    "name:                               reg_no:\n",
    "aisetty santosh pavan manikanta     39110026\n",
    "ammanaven vinay kumar               39110056\n",
    "t. nitish kumar                     39111013\n",
    "\"\"\""
   ]
  },
  {
   "cell_type": "code",
   "execution_count": 3,
   "id": "8540bfae",
   "metadata": {},
   "outputs": [],
   "source": [
    "#reading our dataset\n",
    "df=pd.read_csv(\"training.csv\")"
   ]
  },
  {
   "cell_type": "code",
   "execution_count": 4,
   "id": "72f017c7",
   "metadata": {},
   "outputs": [
    {
     "data": {
      "text/html": [
       "<div>\n",
       "<style scoped>\n",
       "    .dataframe tbody tr th:only-of-type {\n",
       "        vertical-align: middle;\n",
       "    }\n",
       "\n",
       "    .dataframe tbody tr th {\n",
       "        vertical-align: top;\n",
       "    }\n",
       "\n",
       "    .dataframe thead th {\n",
       "        text-align: right;\n",
       "    }\n",
       "</style>\n",
       "<table border=\"1\" class=\"dataframe\">\n",
       "  <thead>\n",
       "    <tr style=\"text-align: right;\">\n",
       "      <th></th>\n",
       "      <th>class</th>\n",
       "      <th>b1</th>\n",
       "      <th>b2</th>\n",
       "      <th>b3</th>\n",
       "      <th>b4</th>\n",
       "      <th>b5</th>\n",
       "      <th>b6</th>\n",
       "      <th>b7</th>\n",
       "      <th>b8</th>\n",
       "      <th>b9</th>\n",
       "      <th>...</th>\n",
       "      <th>pred_minus_obs_H_b9</th>\n",
       "      <th>pred_minus_obs_S_b1</th>\n",
       "      <th>pred_minus_obs_S_b2</th>\n",
       "      <th>pred_minus_obs_S_b3</th>\n",
       "      <th>pred_minus_obs_S_b4</th>\n",
       "      <th>pred_minus_obs_S_b5</th>\n",
       "      <th>pred_minus_obs_S_b6</th>\n",
       "      <th>pred_minus_obs_S_b7</th>\n",
       "      <th>pred_minus_obs_S_b8</th>\n",
       "      <th>pred_minus_obs_S_b9</th>\n",
       "    </tr>\n",
       "  </thead>\n",
       "  <tbody>\n",
       "    <tr>\n",
       "      <th>0</th>\n",
       "      <td>d</td>\n",
       "      <td>39</td>\n",
       "      <td>36</td>\n",
       "      <td>57</td>\n",
       "      <td>91</td>\n",
       "      <td>59</td>\n",
       "      <td>101</td>\n",
       "      <td>93</td>\n",
       "      <td>27</td>\n",
       "      <td>60</td>\n",
       "      <td>...</td>\n",
       "      <td>-2.36</td>\n",
       "      <td>-18.41</td>\n",
       "      <td>-1.88</td>\n",
       "      <td>-6.43</td>\n",
       "      <td>-21.03</td>\n",
       "      <td>-1.60</td>\n",
       "      <td>-6.18</td>\n",
       "      <td>-22.50</td>\n",
       "      <td>-5.20</td>\n",
       "      <td>-7.86</td>\n",
       "    </tr>\n",
       "    <tr>\n",
       "      <th>1</th>\n",
       "      <td>h</td>\n",
       "      <td>84</td>\n",
       "      <td>30</td>\n",
       "      <td>57</td>\n",
       "      <td>112</td>\n",
       "      <td>51</td>\n",
       "      <td>98</td>\n",
       "      <td>92</td>\n",
       "      <td>26</td>\n",
       "      <td>62</td>\n",
       "      <td>...</td>\n",
       "      <td>-2.26</td>\n",
       "      <td>-16.27</td>\n",
       "      <td>-1.95</td>\n",
       "      <td>-6.25</td>\n",
       "      <td>-18.79</td>\n",
       "      <td>-1.99</td>\n",
       "      <td>-6.18</td>\n",
       "      <td>-23.41</td>\n",
       "      <td>-8.87</td>\n",
       "      <td>-10.83</td>\n",
       "    </tr>\n",
       "    <tr>\n",
       "      <th>2</th>\n",
       "      <td>s</td>\n",
       "      <td>53</td>\n",
       "      <td>25</td>\n",
       "      <td>49</td>\n",
       "      <td>99</td>\n",
       "      <td>51</td>\n",
       "      <td>93</td>\n",
       "      <td>84</td>\n",
       "      <td>26</td>\n",
       "      <td>58</td>\n",
       "      <td>...</td>\n",
       "      <td>-1.46</td>\n",
       "      <td>-15.92</td>\n",
       "      <td>-1.79</td>\n",
       "      <td>-4.64</td>\n",
       "      <td>-17.73</td>\n",
       "      <td>-0.48</td>\n",
       "      <td>-4.69</td>\n",
       "      <td>-19.97</td>\n",
       "      <td>-4.10</td>\n",
       "      <td>-7.07</td>\n",
       "    </tr>\n",
       "    <tr>\n",
       "      <th>3</th>\n",
       "      <td>s</td>\n",
       "      <td>59</td>\n",
       "      <td>26</td>\n",
       "      <td>49</td>\n",
       "      <td>103</td>\n",
       "      <td>47</td>\n",
       "      <td>92</td>\n",
       "      <td>82</td>\n",
       "      <td>25</td>\n",
       "      <td>56</td>\n",
       "      <td>...</td>\n",
       "      <td>2.68</td>\n",
       "      <td>-13.77</td>\n",
       "      <td>-2.53</td>\n",
       "      <td>-6.34</td>\n",
       "      <td>-22.03</td>\n",
       "      <td>-2.34</td>\n",
       "      <td>-6.60</td>\n",
       "      <td>-27.10</td>\n",
       "      <td>-7.99</td>\n",
       "      <td>-10.81</td>\n",
       "    </tr>\n",
       "    <tr>\n",
       "      <th>4</th>\n",
       "      <td>d</td>\n",
       "      <td>57</td>\n",
       "      <td>49</td>\n",
       "      <td>66</td>\n",
       "      <td>103</td>\n",
       "      <td>64</td>\n",
       "      <td>106</td>\n",
       "      <td>114</td>\n",
       "      <td>28</td>\n",
       "      <td>59</td>\n",
       "      <td>...</td>\n",
       "      <td>-2.94</td>\n",
       "      <td>-21.74</td>\n",
       "      <td>-1.64</td>\n",
       "      <td>-4.62</td>\n",
       "      <td>-23.74</td>\n",
       "      <td>-0.85</td>\n",
       "      <td>-5.50</td>\n",
       "      <td>-22.83</td>\n",
       "      <td>-2.74</td>\n",
       "      <td>-5.84</td>\n",
       "    </tr>\n",
       "  </tbody>\n",
       "</table>\n",
       "<p>5 rows × 28 columns</p>\n",
       "</div>"
      ],
      "text/plain": [
       "  class  b1  b2  b3   b4  b5   b6   b7  b8  b9  ...  pred_minus_obs_H_b9  \\\n",
       "0    d   39  36  57   91  59  101   93  27  60  ...                -2.36   \n",
       "1    h   84  30  57  112  51   98   92  26  62  ...                -2.26   \n",
       "2    s   53  25  49   99  51   93   84  26  58  ...                -1.46   \n",
       "3    s   59  26  49  103  47   92   82  25  56  ...                 2.68   \n",
       "4    d   57  49  66  103  64  106  114  28  59  ...                -2.94   \n",
       "\n",
       "   pred_minus_obs_S_b1  pred_minus_obs_S_b2  pred_minus_obs_S_b3  \\\n",
       "0               -18.41                -1.88                -6.43   \n",
       "1               -16.27                -1.95                -6.25   \n",
       "2               -15.92                -1.79                -4.64   \n",
       "3               -13.77                -2.53                -6.34   \n",
       "4               -21.74                -1.64                -4.62   \n",
       "\n",
       "   pred_minus_obs_S_b4  pred_minus_obs_S_b5  pred_minus_obs_S_b6  \\\n",
       "0               -21.03                -1.60                -6.18   \n",
       "1               -18.79                -1.99                -6.18   \n",
       "2               -17.73                -0.48                -4.69   \n",
       "3               -22.03                -2.34                -6.60   \n",
       "4               -23.74                -0.85                -5.50   \n",
       "\n",
       "   pred_minus_obs_S_b7  pred_minus_obs_S_b8  pred_minus_obs_S_b9  \n",
       "0               -22.50                -5.20                -7.86  \n",
       "1               -23.41                -8.87               -10.83  \n",
       "2               -19.97                -4.10                -7.07  \n",
       "3               -27.10                -7.99               -10.81  \n",
       "4               -22.83                -2.74                -5.84  \n",
       "\n",
       "[5 rows x 28 columns]"
      ]
     },
     "execution_count": 4,
     "metadata": {},
     "output_type": "execute_result"
    }
   ],
   "source": [
    "df.head()"
   ]
  },
  {
   "cell_type": "code",
   "execution_count": 5,
   "id": "3514b1cf",
   "metadata": {},
   "outputs": [
    {
     "data": {
      "text/plain": [
       "(198, 28)"
      ]
     },
     "execution_count": 5,
     "metadata": {},
     "output_type": "execute_result"
    }
   ],
   "source": [
    "# d=mixed deciduous forest\n",
    "# h= hinoki forest\n",
    "# o=other\n",
    "# s=sugi forest\n",
    "#knowing structure of our dataset\n",
    "df.shape"
   ]
  },
  {
   "cell_type": "code",
   "execution_count": 6,
   "id": "f90c1bc8",
   "metadata": {
    "scrolled": true
   },
   "outputs": [
    {
     "data": {
      "text/plain": [
       "Text(0, 0.5, 'b8')"
      ]
     },
     "execution_count": 6,
     "metadata": {},
     "output_type": "execute_result"
    },
    {
     "data": {
      "image/png": "[encoded data removed]",
      "text/plain": [
       "<Figure size 1296x360 with 1 Axes>"
      ]
     },
     "metadata": {
      "needs_background": "light"
     },
     "output_type": "display_data"
    },
    {
     "data": {
      "image/png": "[encoded data removed]",
      "text/plain": [
       "<Figure size 1296x360 with 1 Axes>"
      ]
     },
     "metadata": {
      "needs_background": "light"
     },
     "output_type": "display_data"
    },
    {
     "data": {
      "image/png": "[encoded data removed]",
      "text/plain": [
       "<Figure size 1296x360 with 1 Axes>"
      ]
     },
     "metadata": {
      "needs_background": "light"
     },
     "output_type": "display_data"
    },
    {
     "data": {
      "image/png": "[encoded data removed]",
      "text/plain": [
       "<Figure size 1296x360 with 1 Axes>"
      ]
     },
     "metadata": {
      "needs_background": "light"
     },
     "output_type": "display_data"
    }
   ],
   "source": [
    "#visualizing data to find the relation between dependent and independent values\n",
    "plt.figure(figsize=(18,5))\n",
    "plt.subplot(1,4,1)\n",
    "plt.plot(df.b1,df.b2,'go')\n",
    "plt.xlabel('b1')\n",
    "plt.ylabel('b2')\n",
    "plt.figure(figsize=(18,5))\n",
    "plt.subplot(1,4,2)\n",
    "plt.plot(df.b3,df.b4,'ko')\n",
    "plt.xlabel('b3')\n",
    "plt.ylabel('b4')\n",
    "plt.figure(figsize=(18,5))\n",
    "plt.subplot(1,4,3)\n",
    "plt.plot(df.b5,df.b6,'bo')\n",
    "plt.xlabel('b5')\n",
    "plt.ylabel('b6')\n",
    "\n",
    "plt.figure(figsize=(18,5))\n",
    "plt.subplot(1,4,4)\n",
    "plt.plot(df.b7,df.b8,'ro')\n",
    "plt.xlabel('b7')\n",
    "plt.ylabel('b8')\n"
   ]
  },
  {
   "cell_type": "code",
   "execution_count": 7,
   "id": "c9b0d2b4",
   "metadata": {},
   "outputs": [
    {
     "data": {
      "text/plain": [
       "<AxesSubplot:xlabel='class', ylabel='count'>"
      ]
     },
     "execution_count": 7,
     "metadata": {},
     "output_type": "execute_result"
    },
    {
     "data": {
      "image/png": "[encoded data removed]",
      "text/plain": [
       "<Figure size 432x288 with 1 Axes>"
      ]
     },
     "metadata": {
      "needs_background": "light"
     },
     "output_type": "display_data"
    }
   ],
   "source": [
    "sns.countplot(x='class',data=df)"
   ]
  },
  {
   "cell_type": "code",
   "execution_count": 8,
   "id": "7389a4c1",
   "metadata": {},
   "outputs": [],
   "source": []
  },
  {
   "cell_type": "code",
   "execution_count": null,
   "id": "dc54fdb8",
   "metadata": {},
   "outputs": [],
   "source": []
  },
  {
   "cell_type": "code",
   "execution_count": 9,
   "id": "e0bea412",
   "metadata": {},
   "outputs": [
    {
     "data": {
      "text/html": [
       "<div>\n",
       "<style scoped>\n",
       "    .dataframe tbody tr th:only-of-type {\n",
       "        vertical-align: middle;\n",
       "    }\n",
       "\n",
       "    .dataframe tbody tr th {\n",
       "        vertical-align: top;\n",
       "    }\n",
       "\n",
       "    .dataframe thead th {\n",
       "        text-align: right;\n",
       "    }\n",
       "</style>\n",
       "<table border=\"1\" class=\"dataframe\">\n",
       "  <thead>\n",
       "    <tr style=\"text-align: right;\">\n",
       "      <th></th>\n",
       "      <th>class</th>\n",
       "      <th>b1</th>\n",
       "      <th>b2</th>\n",
       "      <th>b3</th>\n",
       "      <th>b4</th>\n",
       "      <th>b5</th>\n",
       "      <th>b6</th>\n",
       "      <th>b7</th>\n",
       "      <th>b8</th>\n",
       "      <th>b9</th>\n",
       "      <th>...</th>\n",
       "      <th>pred_minus_obs_H_b9</th>\n",
       "      <th>pred_minus_obs_S_b1</th>\n",
       "      <th>pred_minus_obs_S_b2</th>\n",
       "      <th>pred_minus_obs_S_b3</th>\n",
       "      <th>pred_minus_obs_S_b4</th>\n",
       "      <th>pred_minus_obs_S_b5</th>\n",
       "      <th>pred_minus_obs_S_b6</th>\n",
       "      <th>pred_minus_obs_S_b7</th>\n",
       "      <th>pred_minus_obs_S_b8</th>\n",
       "      <th>pred_minus_obs_S_b9</th>\n",
       "    </tr>\n",
       "  </thead>\n",
       "  <tbody>\n",
       "    <tr>\n",
       "      <th>0</th>\n",
       "      <td>False</td>\n",
       "      <td>False</td>\n",
       "      <td>False</td>\n",
       "      <td>False</td>\n",
       "      <td>False</td>\n",
       "      <td>False</td>\n",
       "      <td>False</td>\n",
       "      <td>False</td>\n",
       "      <td>False</td>\n",
       "      <td>False</td>\n",
       "      <td>...</td>\n",
       "      <td>False</td>\n",
       "      <td>False</td>\n",
       "      <td>False</td>\n",
       "      <td>False</td>\n",
       "      <td>False</td>\n",
       "      <td>False</td>\n",
       "      <td>False</td>\n",
       "      <td>False</td>\n",
       "      <td>False</td>\n",
       "      <td>False</td>\n",
       "    </tr>\n",
       "    <tr>\n",
       "      <th>1</th>\n",
       "      <td>False</td>\n",
       "      <td>False</td>\n",
       "      <td>False</td>\n",
       "      <td>False</td>\n",
       "      <td>False</td>\n",
       "      <td>False</td>\n",
       "      <td>False</td>\n",
       "      <td>False</td>\n",
       "      <td>False</td>\n",
       "      <td>False</td>\n",
       "      <td>...</td>\n",
       "      <td>False</td>\n",
       "      <td>False</td>\n",
       "      <td>False</td>\n",
       "      <td>False</td>\n",
       "      <td>False</td>\n",
       "      <td>False</td>\n",
       "      <td>False</td>\n",
       "      <td>False</td>\n",
       "      <td>False</td>\n",
       "      <td>False</td>\n",
       "    </tr>\n",
       "    <tr>\n",
       "      <th>2</th>\n",
       "      <td>False</td>\n",
       "      <td>False</td>\n",
       "      <td>False</td>\n",
       "      <td>False</td>\n",
       "      <td>False</td>\n",
       "      <td>False</td>\n",
       "      <td>False</td>\n",
       "      <td>False</td>\n",
       "      <td>False</td>\n",
       "      <td>False</td>\n",
       "      <td>...</td>\n",
       "      <td>False</td>\n",
       "      <td>False</td>\n",
       "      <td>False</td>\n",
       "      <td>False</td>\n",
       "      <td>False</td>\n",
       "      <td>False</td>\n",
       "      <td>False</td>\n",
       "      <td>False</td>\n",
       "      <td>False</td>\n",
       "      <td>False</td>\n",
       "    </tr>\n",
       "    <tr>\n",
       "      <th>3</th>\n",
       "      <td>False</td>\n",
       "      <td>False</td>\n",
       "      <td>False</td>\n",
       "      <td>False</td>\n",
       "      <td>False</td>\n",
       "      <td>False</td>\n",
       "      <td>False</td>\n",
       "      <td>False</td>\n",
       "      <td>False</td>\n",
       "      <td>False</td>\n",
       "      <td>...</td>\n",
       "      <td>False</td>\n",
       "      <td>False</td>\n",
       "      <td>False</td>\n",
       "      <td>False</td>\n",
       "      <td>False</td>\n",
       "      <td>False</td>\n",
       "      <td>False</td>\n",
       "      <td>False</td>\n",
       "      <td>False</td>\n",
       "      <td>False</td>\n",
       "    </tr>\n",
       "    <tr>\n",
       "      <th>4</th>\n",
       "      <td>False</td>\n",
       "      <td>False</td>\n",
       "      <td>False</td>\n",
       "      <td>False</td>\n",
       "      <td>False</td>\n",
       "      <td>False</td>\n",
       "      <td>False</td>\n",
       "      <td>False</td>\n",
       "      <td>False</td>\n",
       "      <td>False</td>\n",
       "      <td>...</td>\n",
       "      <td>False</td>\n",
       "      <td>False</td>\n",
       "      <td>False</td>\n",
       "      <td>False</td>\n",
       "      <td>False</td>\n",
       "      <td>False</td>\n",
       "      <td>False</td>\n",
       "      <td>False</td>\n",
       "      <td>False</td>\n",
       "      <td>False</td>\n",
       "    </tr>\n",
       "    <tr>\n",
       "      <th>...</th>\n",
       "      <td>...</td>\n",
       "      <td>...</td>\n",
       "      <td>...</td>\n",
       "      <td>...</td>\n",
       "      <td>...</td>\n",
       "      <td>...</td>\n",
       "      <td>...</td>\n",
       "      <td>...</td>\n",
       "      <td>...</td>\n",
       "      <td>...</td>\n",
       "      <td>...</td>\n",
       "      <td>...</td>\n",
       "      <td>...</td>\n",
       "      <td>...</td>\n",
       "      <td>...</td>\n",
       "      <td>...</td>\n",
       "      <td>...</td>\n",
       "      <td>...</td>\n",
       "      <td>...</td>\n",
       "      <td>...</td>\n",
       "      <td>...</td>\n",
       "    </tr>\n",
       "    <tr>\n",
       "      <th>193</th>\n",
       "      <td>False</td>\n",
       "      <td>False</td>\n",
       "      <td>False</td>\n",
       "      <td>False</td>\n",
       "      <td>False</td>\n",
       "      <td>False</td>\n",
       "      <td>False</td>\n",
       "      <td>False</td>\n",
       "      <td>False</td>\n",
       "      <td>False</td>\n",
       "      <td>...</td>\n",
       "      <td>False</td>\n",
       "      <td>False</td>\n",
       "      <td>False</td>\n",
       "      <td>False</td>\n",
       "      <td>False</td>\n",
       "      <td>False</td>\n",
       "      <td>False</td>\n",
       "      <td>False</td>\n",
       "      <td>False</td>\n",
       "      <td>False</td>\n",
       "    </tr>\n",
       "    <tr>\n",
       "      <th>194</th>\n",
       "      <td>False</td>\n",
       "      <td>False</td>\n",
       "      <td>False</td>\n",
       "      <td>False</td>\n",
       "      <td>False</td>\n",
       "      <td>False</td>\n",
       "      <td>False</td>\n",
       "      <td>False</td>\n",
       "      <td>False</td>\n",
       "      <td>False</td>\n",
       "      <td>...</td>\n",
       "      <td>False</td>\n",
       "      <td>False</td>\n",
       "      <td>False</td>\n",
       "      <td>False</td>\n",
       "      <td>False</td>\n",
       "      <td>False</td>\n",
       "      <td>False</td>\n",
       "      <td>False</td>\n",
       "      <td>False</td>\n",
       "      <td>False</td>\n",
       "    </tr>\n",
       "    <tr>\n",
       "      <th>195</th>\n",
       "      <td>False</td>\n",
       "      <td>False</td>\n",
       "      <td>False</td>\n",
       "      <td>False</td>\n",
       "      <td>False</td>\n",
       "      <td>False</td>\n",
       "      <td>False</td>\n",
       "      <td>False</td>\n",
       "      <td>False</td>\n",
       "      <td>False</td>\n",
       "      <td>...</td>\n",
       "      <td>False</td>\n",
       "      <td>False</td>\n",
       "      <td>False</td>\n",
       "      <td>False</td>\n",
       "      <td>False</td>\n",
       "      <td>False</td>\n",
       "      <td>False</td>\n",
       "      <td>False</td>\n",
       "      <td>False</td>\n",
       "      <td>False</td>\n",
       "    </tr>\n",
       "    <tr>\n",
       "      <th>196</th>\n",
       "      <td>False</td>\n",
       "      <td>False</td>\n",
       "      <td>False</td>\n",
       "      <td>False</td>\n",
       "      <td>False</td>\n",
       "      <td>False</td>\n",
       "      <td>False</td>\n",
       "      <td>False</td>\n",
       "      <td>False</td>\n",
       "      <td>False</td>\n",
       "      <td>...</td>\n",
       "      <td>False</td>\n",
       "      <td>False</td>\n",
       "      <td>False</td>\n",
       "      <td>False</td>\n",
       "      <td>False</td>\n",
       "      <td>False</td>\n",
       "      <td>False</td>\n",
       "      <td>False</td>\n",
       "      <td>False</td>\n",
       "      <td>False</td>\n",
       "    </tr>\n",
       "    <tr>\n",
       "      <th>197</th>\n",
       "      <td>False</td>\n",
       "      <td>False</td>\n",
       "      <td>False</td>\n",
       "      <td>False</td>\n",
       "      <td>False</td>\n",
       "      <td>False</td>\n",
       "      <td>False</td>\n",
       "      <td>False</td>\n",
       "      <td>False</td>\n",
       "      <td>False</td>\n",
       "      <td>...</td>\n",
       "      <td>False</td>\n",
       "      <td>False</td>\n",
       "      <td>False</td>\n",
       "      <td>False</td>\n",
       "      <td>False</td>\n",
       "      <td>False</td>\n",
       "      <td>False</td>\n",
       "      <td>False</td>\n",
       "      <td>False</td>\n",
       "      <td>False</td>\n",
       "    </tr>\n",
       "  </tbody>\n",
       "</table>\n",
       "<p>198 rows × 28 columns</p>\n",
       "</div>"
      ],
      "text/plain": [
       "     class     b1     b2     b3     b4     b5     b6     b7     b8     b9  \\\n",
       "0    False  False  False  False  False  False  False  False  False  False   \n",
       "1    False  False  False  False  False  False  False  False  False  False   \n",
       "2    False  False  False  False  False  False  False  False  False  False   \n",
       "3    False  False  False  False  False  False  False  False  False  False   \n",
       "4    False  False  False  False  False  False  False  False  False  False   \n",
       "..     ...    ...    ...    ...    ...    ...    ...    ...    ...    ...   \n",
       "193  False  False  False  False  False  False  False  False  False  False   \n",
       "194  False  False  False  False  False  False  False  False  False  False   \n",
       "195  False  False  False  False  False  False  False  False  False  False   \n",
       "196  False  False  False  False  False  False  False  False  False  False   \n",
       "197  False  False  False  False  False  False  False  False  False  False   \n",
       "\n",
       "     ...  pred_minus_obs_H_b9  pred_minus_obs_S_b1  pred_minus_obs_S_b2  \\\n",
       "0    ...                False                False                False   \n",
       "1    ...                False                False                False   \n",
       "2    ...                False                False                False   \n",
       "3    ...                False                False                False   \n",
       "4    ...                False                False                False   \n",
       "..   ...                  ...                  ...                  ...   \n",
       "193  ...                False                False                False   \n",
       "194  ...                False                False                False   \n",
       "195  ...                False                False                False   \n",
       "196  ...                False                False                False   \n",
       "197  ...                False                False                False   \n",
       "\n",
       "     pred_minus_obs_S_b3  pred_minus_obs_S_b4  pred_minus_obs_S_b5  \\\n",
       "0                  False                False                False   \n",
       "1                  False                False                False   \n",
       "2                  False                False                False   \n",
       "3                  False                False                False   \n",
       "4                  False                False                False   \n",
       "..                   ...                  ...                  ...   \n",
       "193                False                False                False   \n",
       "194                False                False                False   \n",
       "195                False                False                False   \n",
       "196                False                False                False   \n",
       "197                False                False                False   \n",
       "\n",
       "     pred_minus_obs_S_b6  pred_minus_obs_S_b7  pred_minus_obs_S_b8  \\\n",
       "0                  False                False                False   \n",
       "1                  False                False                False   \n",
       "2                  False                False                False   \n",
       "3                  False                False                False   \n",
       "4                  False                False                False   \n",
       "..                   ...                  ...                  ...   \n",
       "193                False                False                False   \n",
       "194                False                False                False   \n",
       "195                False                False                False   \n",
       "196                False                False                False   \n",
       "197                False                False                False   \n",
       "\n",
       "     pred_minus_obs_S_b9  \n",
       "0                  False  \n",
       "1                  False  \n",
       "2                  False  \n",
       "3                  False  \n",
       "4                  False  \n",
       "..                   ...  \n",
       "193                False  \n",
       "194                False  \n",
       "195                False  \n",
       "196                False  \n",
       "197                False  \n",
       "\n",
       "[198 rows x 28 columns]"
      ]
     },
     "execution_count": 9,
     "metadata": {},
     "output_type": "execute_result"
    }
   ],
   "source": [
    "#searching for null values\n",
    "df.isnull()"
   ]
  },
  {
   "cell_type": "code",
   "execution_count": 10,
   "id": "f1677366",
   "metadata": {},
   "outputs": [
    {
     "name": "stdout",
     "output_type": "stream",
     "text": [
      "<class 'pandas.core.frame.DataFrame'>\n",
      "RangeIndex: 198 entries, 0 to 197\n",
      "Data columns (total 28 columns):\n",
      " #   Column               Non-Null Count  Dtype  \n",
      "---  ------               --------------  -----  \n",
      " 0   class                198 non-null    object \n",
      " 1   b1                   198 non-null    int64  \n",
      " 2   b2                   198 non-null    int64  \n",
      " 3   b3                   198 non-null    int64  \n",
      " 4   b4                   198 non-null    int64  \n",
      " 5   b5                   198 non-null    int64  \n",
      " 6   b6                   198 non-null    int64  \n",
      " 7   b7                   198 non-null    int64  \n",
      " 8   b8                   198 non-null    int64  \n",
      " 9   b9                   198 non-null    int64  \n",
      " 10  pred_minus_obs_H_b1  198 non-null    float64\n",
      " 11  pred_minus_obs_H_b2  198 non-null    float64\n",
      " 12  pred_minus_obs_H_b3  198 non-null    float64\n",
      " 13  pred_minus_obs_H_b4  198 non-null    float64\n",
      " 14  pred_minus_obs_H_b5  198 non-null    float64\n",
      " 15  pred_minus_obs_H_b6  198 non-null    float64\n",
      " 16  pred_minus_obs_H_b7  198 non-null    float64\n",
      " 17  pred_minus_obs_H_b8  198 non-null    float64\n",
      " 18  pred_minus_obs_H_b9  198 non-null    float64\n",
      " 19  pred_minus_obs_S_b1  198 non-null    float64\n",
      " 20  pred_minus_obs_S_b2  198 non-null    float64\n",
      " 21  pred_minus_obs_S_b3  198 non-null    float64\n",
      " 22  pred_minus_obs_S_b4  198 non-null    float64\n",
      " 23  pred_minus_obs_S_b5  198 non-null    float64\n",
      " 24  pred_minus_obs_S_b6  198 non-null    float64\n",
      " 25  pred_minus_obs_S_b7  198 non-null    float64\n",
      " 26  pred_minus_obs_S_b8  198 non-null    float64\n",
      " 27  pred_minus_obs_S_b9  198 non-null    float64\n",
      "dtypes: float64(18), int64(9), object(1)\n",
      "memory usage: 43.4+ KB\n"
     ]
    }
   ],
   "source": [
    "df.info()"
   ]
  },
  {
   "cell_type": "code",
   "execution_count": 11,
   "id": "519efb2a",
   "metadata": {},
   "outputs": [
    {
     "data": {
      "text/plain": [
       "class                   object\n",
       "b1                       int64\n",
       "b2                       int64\n",
       "b3                       int64\n",
       "b4                       int64\n",
       "b5                       int64\n",
       "b6                       int64\n",
       "b7                       int64\n",
       "b8                       int64\n",
       "b9                       int64\n",
       "pred_minus_obs_H_b1    float64\n",
       "pred_minus_obs_H_b2    float64\n",
       "pred_minus_obs_H_b3    float64\n",
       "pred_minus_obs_H_b4    float64\n",
       "pred_minus_obs_H_b5    float64\n",
       "pred_minus_obs_H_b6    float64\n",
       "pred_minus_obs_H_b7    float64\n",
       "pred_minus_obs_H_b8    float64\n",
       "pred_minus_obs_H_b9    float64\n",
       "pred_minus_obs_S_b1    float64\n",
       "pred_minus_obs_S_b2    float64\n",
       "pred_minus_obs_S_b3    float64\n",
       "pred_minus_obs_S_b4    float64\n",
       "pred_minus_obs_S_b5    float64\n",
       "pred_minus_obs_S_b6    float64\n",
       "pred_minus_obs_S_b7    float64\n",
       "pred_minus_obs_S_b8    float64\n",
       "pred_minus_obs_S_b9    float64\n",
       "dtype: object"
      ]
     },
     "execution_count": 11,
     "metadata": {},
     "output_type": "execute_result"
    }
   ],
   "source": [
    "#there are no null values\n",
    "#now searching for categorical (dtype=object) values\n",
    "df.dtypes"
   ]
  },
  {
   "cell_type": "code",
   "execution_count": 12,
   "id": "fb6624fb",
   "metadata": {},
   "outputs": [],
   "source": [
    "\"\"\"we found class is object type and as class is the thing which i need to predict i cant remove\n",
    "   so i did labelling to it with the use if labelencoder\"\"\"\n",
    "l3 = LabelEncoder()\n",
    "label = l3.fit_transform(df['class'])"
   ]
  },
  {
   "cell_type": "code",
   "execution_count": 13,
   "id": "e649522f",
   "metadata": {},
   "outputs": [
    {
     "data": {
      "text/plain": [
       "array([0, 1, 3, 3, 0, 1, 3, 0, 3, 2, 0, 2, 2, 0, 3, 2, 2, 0, 3, 1, 2, 0,\n",
       "       3, 1, 0, 1, 2, 0, 0, 0, 0, 3, 2, 3, 0, 0, 0, 1, 2, 0, 0, 0, 3, 3,\n",
       "       1, 0, 0, 2, 0, 3, 0, 3, 3, 1, 1, 3, 2, 0, 1, 1, 0, 2, 2, 2, 1, 3,\n",
       "       1, 0, 0, 1, 2, 2, 2, 3, 1, 3, 0, 2, 3, 3, 0, 0, 2, 1, 2, 1, 0, 0,\n",
       "       3, 2, 2, 1, 2, 2, 0, 3, 2, 1, 2, 3, 0, 2, 1, 1, 1, 1, 1, 0, 3, 1,\n",
       "       0, 0, 0, 0, 1, 2, 3, 1, 3, 3, 3, 3, 2, 3, 1, 3, 1, 3, 1, 0, 3, 3,\n",
       "       2, 3, 1, 3, 2, 3, 0, 3, 3, 1, 3, 1, 3, 0, 0, 3, 1, 0, 3, 1, 3, 0,\n",
       "       2, 0, 3, 2, 0, 3, 2, 0, 2, 3, 0, 1, 3, 3, 2, 0, 3, 1, 1, 1, 3, 3,\n",
       "       1, 0, 1, 0, 3, 3, 1, 3, 1, 3, 0, 2, 1, 3, 3, 3, 1, 0, 0, 1, 1, 1])"
      ]
     },
     "execution_count": 13,
     "metadata": {},
     "output_type": "execute_result"
    }
   ],
   "source": [
    "label"
   ]
  },
  {
   "cell_type": "code",
   "execution_count": 14,
   "id": "c0079fc6",
   "metadata": {},
   "outputs": [
    {
     "data": {
      "text/plain": [
       "array(['d ', 'h ', 'o ', 's '], dtype=object)"
      ]
     },
     "execution_count": 14,
     "metadata": {},
     "output_type": "execute_result"
    }
   ],
   "source": [
    "l3.classes_"
   ]
  },
  {
   "cell_type": "code",
   "execution_count": 15,
   "id": "d66ab62a",
   "metadata": {},
   "outputs": [
    {
     "data": {
      "text/plain": [
       "'from above arry i  got the labels so\\n\\n   d=0 , h=1 , o=2 ,s =3'"
      ]
     },
     "execution_count": 15,
     "metadata": {},
     "output_type": "execute_result"
    }
   ],
   "source": [
    "\"\"\"from above arry i  got the labels so\n",
    "\n",
    "   d=0 , h=1 , o=2 ,s =3\"\"\"\n",
    "# d=mixed deciduous forest\n",
    "# h= hinoki forest\n",
    "# o=other\n",
    "# s=sugi forest"
   ]
  },
  {
   "cell_type": "code",
   "execution_count": 16,
   "id": "a75973f5",
   "metadata": {},
   "outputs": [],
   "source": [
    "pf=df\n",
    "# creating a dummy variable pf so that i can makes changes and perform tasks and my df still holds original dataset\n",
    "pf= pf.drop(\"class\", axis='columns')"
   ]
  },
  {
   "cell_type": "code",
   "execution_count": 17,
   "id": "d64b7c00",
   "metadata": {},
   "outputs": [
    {
     "data": {
      "text/html": [
       "<div>\n",
       "<style scoped>\n",
       "    .dataframe tbody tr th:only-of-type {\n",
       "        vertical-align: middle;\n",
       "    }\n",
       "\n",
       "    .dataframe tbody tr th {\n",
       "        vertical-align: top;\n",
       "    }\n",
       "\n",
       "    .dataframe thead th {\n",
       "        text-align: right;\n",
       "    }\n",
       "</style>\n",
       "<table border=\"1\" class=\"dataframe\">\n",
       "  <thead>\n",
       "    <tr style=\"text-align: right;\">\n",
       "      <th></th>\n",
       "      <th>b1</th>\n",
       "      <th>b2</th>\n",
       "      <th>b3</th>\n",
       "      <th>b4</th>\n",
       "      <th>b5</th>\n",
       "      <th>b6</th>\n",
       "      <th>b7</th>\n",
       "      <th>b8</th>\n",
       "      <th>b9</th>\n",
       "      <th>pred_minus_obs_H_b1</th>\n",
       "      <th>...</th>\n",
       "      <th>pred_minus_obs_H_b9</th>\n",
       "      <th>pred_minus_obs_S_b1</th>\n",
       "      <th>pred_minus_obs_S_b2</th>\n",
       "      <th>pred_minus_obs_S_b3</th>\n",
       "      <th>pred_minus_obs_S_b4</th>\n",
       "      <th>pred_minus_obs_S_b5</th>\n",
       "      <th>pred_minus_obs_S_b6</th>\n",
       "      <th>pred_minus_obs_S_b7</th>\n",
       "      <th>pred_minus_obs_S_b8</th>\n",
       "      <th>pred_minus_obs_S_b9</th>\n",
       "    </tr>\n",
       "  </thead>\n",
       "  <tbody>\n",
       "    <tr>\n",
       "      <th>0</th>\n",
       "      <td>39</td>\n",
       "      <td>36</td>\n",
       "      <td>57</td>\n",
       "      <td>91</td>\n",
       "      <td>59</td>\n",
       "      <td>101</td>\n",
       "      <td>93</td>\n",
       "      <td>27</td>\n",
       "      <td>60</td>\n",
       "      <td>75.70</td>\n",
       "      <td>...</td>\n",
       "      <td>-2.36</td>\n",
       "      <td>-18.41</td>\n",
       "      <td>-1.88</td>\n",
       "      <td>-6.43</td>\n",
       "      <td>-21.03</td>\n",
       "      <td>-1.60</td>\n",
       "      <td>-6.18</td>\n",
       "      <td>-22.50</td>\n",
       "      <td>-5.20</td>\n",
       "      <td>-7.86</td>\n",
       "    </tr>\n",
       "    <tr>\n",
       "      <th>1</th>\n",
       "      <td>84</td>\n",
       "      <td>30</td>\n",
       "      <td>57</td>\n",
       "      <td>112</td>\n",
       "      <td>51</td>\n",
       "      <td>98</td>\n",
       "      <td>92</td>\n",
       "      <td>26</td>\n",
       "      <td>62</td>\n",
       "      <td>30.58</td>\n",
       "      <td>...</td>\n",
       "      <td>-2.26</td>\n",
       "      <td>-16.27</td>\n",
       "      <td>-1.95</td>\n",
       "      <td>-6.25</td>\n",
       "      <td>-18.79</td>\n",
       "      <td>-1.99</td>\n",
       "      <td>-6.18</td>\n",
       "      <td>-23.41</td>\n",
       "      <td>-8.87</td>\n",
       "      <td>-10.83</td>\n",
       "    </tr>\n",
       "  </tbody>\n",
       "</table>\n",
       "<p>2 rows × 27 columns</p>\n",
       "</div>"
      ],
      "text/plain": [
       "   b1  b2  b3   b4  b5   b6  b7  b8  b9  pred_minus_obs_H_b1  ...  \\\n",
       "0  39  36  57   91  59  101  93  27  60                75.70  ...   \n",
       "1  84  30  57  112  51   98  92  26  62                30.58  ...   \n",
       "\n",
       "   pred_minus_obs_H_b9  pred_minus_obs_S_b1  pred_minus_obs_S_b2  \\\n",
       "0                -2.36               -18.41                -1.88   \n",
       "1                -2.26               -16.27                -1.95   \n",
       "\n",
       "   pred_minus_obs_S_b3  pred_minus_obs_S_b4  pred_minus_obs_S_b5  \\\n",
       "0                -6.43               -21.03                -1.60   \n",
       "1                -6.25               -18.79                -1.99   \n",
       "\n",
       "   pred_minus_obs_S_b6  pred_minus_obs_S_b7  pred_minus_obs_S_b8  \\\n",
       "0                -6.18               -22.50                -5.20   \n",
       "1                -6.18               -23.41                -8.87   \n",
       "\n",
       "   pred_minus_obs_S_b9  \n",
       "0                -7.86  \n",
       "1               -10.83  \n",
       "\n",
       "[2 rows x 27 columns]"
      ]
     },
     "execution_count": 17,
     "metadata": {},
     "output_type": "execute_result"
    }
   ],
   "source": [
    "pf.head(2)"
   ]
  },
  {
   "cell_type": "code",
   "execution_count": 18,
   "id": "505abf3c",
   "metadata": {},
   "outputs": [],
   "source": [
    "#we can see above class column has been dropped\n",
    "#adding class column with labels as values\n",
    "pf[\"class\"]=label"
   ]
  },
  {
   "cell_type": "code",
   "execution_count": 19,
   "id": "efa66a8e",
   "metadata": {},
   "outputs": [
    {
     "data": {
      "text/html": [
       "<div>\n",
       "<style scoped>\n",
       "    .dataframe tbody tr th:only-of-type {\n",
       "        vertical-align: middle;\n",
       "    }\n",
       "\n",
       "    .dataframe tbody tr th {\n",
       "        vertical-align: top;\n",
       "    }\n",
       "\n",
       "    .dataframe thead th {\n",
       "        text-align: right;\n",
       "    }\n",
       "</style>\n",
       "<table border=\"1\" class=\"dataframe\">\n",
       "  <thead>\n",
       "    <tr style=\"text-align: right;\">\n",
       "      <th></th>\n",
       "      <th>b1</th>\n",
       "      <th>b2</th>\n",
       "      <th>b3</th>\n",
       "      <th>b4</th>\n",
       "      <th>b5</th>\n",
       "      <th>b6</th>\n",
       "      <th>b7</th>\n",
       "      <th>b8</th>\n",
       "      <th>b9</th>\n",
       "      <th>pred_minus_obs_H_b1</th>\n",
       "      <th>...</th>\n",
       "      <th>pred_minus_obs_S_b1</th>\n",
       "      <th>pred_minus_obs_S_b2</th>\n",
       "      <th>pred_minus_obs_S_b3</th>\n",
       "      <th>pred_minus_obs_S_b4</th>\n",
       "      <th>pred_minus_obs_S_b5</th>\n",
       "      <th>pred_minus_obs_S_b6</th>\n",
       "      <th>pred_minus_obs_S_b7</th>\n",
       "      <th>pred_minus_obs_S_b8</th>\n",
       "      <th>pred_minus_obs_S_b9</th>\n",
       "      <th>class</th>\n",
       "    </tr>\n",
       "  </thead>\n",
       "  <tbody>\n",
       "    <tr>\n",
       "      <th>0</th>\n",
       "      <td>39</td>\n",
       "      <td>36</td>\n",
       "      <td>57</td>\n",
       "      <td>91</td>\n",
       "      <td>59</td>\n",
       "      <td>101</td>\n",
       "      <td>93</td>\n",
       "      <td>27</td>\n",
       "      <td>60</td>\n",
       "      <td>75.70</td>\n",
       "      <td>...</td>\n",
       "      <td>-18.41</td>\n",
       "      <td>-1.88</td>\n",
       "      <td>-6.43</td>\n",
       "      <td>-21.03</td>\n",
       "      <td>-1.60</td>\n",
       "      <td>-6.18</td>\n",
       "      <td>-22.50</td>\n",
       "      <td>-5.20</td>\n",
       "      <td>-7.86</td>\n",
       "      <td>0</td>\n",
       "    </tr>\n",
       "    <tr>\n",
       "      <th>1</th>\n",
       "      <td>84</td>\n",
       "      <td>30</td>\n",
       "      <td>57</td>\n",
       "      <td>112</td>\n",
       "      <td>51</td>\n",
       "      <td>98</td>\n",
       "      <td>92</td>\n",
       "      <td>26</td>\n",
       "      <td>62</td>\n",
       "      <td>30.58</td>\n",
       "      <td>...</td>\n",
       "      <td>-16.27</td>\n",
       "      <td>-1.95</td>\n",
       "      <td>-6.25</td>\n",
       "      <td>-18.79</td>\n",
       "      <td>-1.99</td>\n",
       "      <td>-6.18</td>\n",
       "      <td>-23.41</td>\n",
       "      <td>-8.87</td>\n",
       "      <td>-10.83</td>\n",
       "      <td>1</td>\n",
       "    </tr>\n",
       "  </tbody>\n",
       "</table>\n",
       "<p>2 rows × 28 columns</p>\n",
       "</div>"
      ],
      "text/plain": [
       "   b1  b2  b3   b4  b5   b6  b7  b8  b9  pred_minus_obs_H_b1  ...  \\\n",
       "0  39  36  57   91  59  101  93  27  60                75.70  ...   \n",
       "1  84  30  57  112  51   98  92  26  62                30.58  ...   \n",
       "\n",
       "   pred_minus_obs_S_b1  pred_minus_obs_S_b2  pred_minus_obs_S_b3  \\\n",
       "0               -18.41                -1.88                -6.43   \n",
       "1               -16.27                -1.95                -6.25   \n",
       "\n",
       "   pred_minus_obs_S_b4  pred_minus_obs_S_b5  pred_minus_obs_S_b6  \\\n",
       "0               -21.03                -1.60                -6.18   \n",
       "1               -18.79                -1.99                -6.18   \n",
       "\n",
       "   pred_minus_obs_S_b7  pred_minus_obs_S_b8  pred_minus_obs_S_b9  class  \n",
       "0               -22.50                -5.20                -7.86      0  \n",
       "1               -23.41                -8.87               -10.83      1  \n",
       "\n",
       "[2 rows x 28 columns]"
      ]
     },
     "execution_count": 19,
     "metadata": {},
     "output_type": "execute_result"
    }
   ],
   "source": [
    "pf.head(2)"
   ]
  },
  {
   "cell_type": "code",
   "execution_count": 20,
   "id": "d3b51fd7",
   "metadata": {},
   "outputs": [],
   "source": [
    "#  class column has been added at the ;ast which we need to predict\n",
    "#initializing my x and y\n",
    "#y is my class which i need to predict and it is dependent\n",
    "#x is all other columns except class\n",
    "y = pf['class']\n",
    "x = pf.loc[:, pf.columns != 'class']"
   ]
  },
  {
   "cell_type": "code",
   "execution_count": 21,
   "id": "3f86544c",
   "metadata": {},
   "outputs": [
    {
     "data": {
      "text/plain": [
       "0    0\n",
       "1    1\n",
       "2    3\n",
       "3    3\n",
       "4    0\n",
       "5    1\n",
       "Name: class, dtype: int32"
      ]
     },
     "execution_count": 21,
     "metadata": {},
     "output_type": "execute_result"
    }
   ],
   "source": [
    "y.head(6)"
   ]
  },
  {
   "cell_type": "code",
   "execution_count": 22,
   "id": "6711a323",
   "metadata": {},
   "outputs": [
    {
     "data": {
      "text/html": [
       "<div>\n",
       "<style scoped>\n",
       "    .dataframe tbody tr th:only-of-type {\n",
       "        vertical-align: middle;\n",
       "    }\n",
       "\n",
       "    .dataframe tbody tr th {\n",
       "        vertical-align: top;\n",
       "    }\n",
       "\n",
       "    .dataframe thead th {\n",
       "        text-align: right;\n",
       "    }\n",
       "</style>\n",
       "<table border=\"1\" class=\"dataframe\">\n",
       "  <thead>\n",
       "    <tr style=\"text-align: right;\">\n",
       "      <th></th>\n",
       "      <th>b1</th>\n",
       "      <th>b2</th>\n",
       "      <th>b3</th>\n",
       "      <th>b4</th>\n",
       "      <th>b5</th>\n",
       "      <th>b6</th>\n",
       "      <th>b7</th>\n",
       "      <th>b8</th>\n",
       "      <th>b9</th>\n",
       "      <th>pred_minus_obs_H_b1</th>\n",
       "      <th>...</th>\n",
       "      <th>pred_minus_obs_H_b9</th>\n",
       "      <th>pred_minus_obs_S_b1</th>\n",
       "      <th>pred_minus_obs_S_b2</th>\n",
       "      <th>pred_minus_obs_S_b3</th>\n",
       "      <th>pred_minus_obs_S_b4</th>\n",
       "      <th>pred_minus_obs_S_b5</th>\n",
       "      <th>pred_minus_obs_S_b6</th>\n",
       "      <th>pred_minus_obs_S_b7</th>\n",
       "      <th>pred_minus_obs_S_b8</th>\n",
       "      <th>pred_minus_obs_S_b9</th>\n",
       "    </tr>\n",
       "  </thead>\n",
       "  <tbody>\n",
       "    <tr>\n",
       "      <th>0</th>\n",
       "      <td>39</td>\n",
       "      <td>36</td>\n",
       "      <td>57</td>\n",
       "      <td>91</td>\n",
       "      <td>59</td>\n",
       "      <td>101</td>\n",
       "      <td>93</td>\n",
       "      <td>27</td>\n",
       "      <td>60</td>\n",
       "      <td>75.70</td>\n",
       "      <td>...</td>\n",
       "      <td>-2.36</td>\n",
       "      <td>-18.41</td>\n",
       "      <td>-1.88</td>\n",
       "      <td>-6.43</td>\n",
       "      <td>-21.03</td>\n",
       "      <td>-1.60</td>\n",
       "      <td>-6.18</td>\n",
       "      <td>-22.50</td>\n",
       "      <td>-5.20</td>\n",
       "      <td>-7.86</td>\n",
       "    </tr>\n",
       "    <tr>\n",
       "      <th>1</th>\n",
       "      <td>84</td>\n",
       "      <td>30</td>\n",
       "      <td>57</td>\n",
       "      <td>112</td>\n",
       "      <td>51</td>\n",
       "      <td>98</td>\n",
       "      <td>92</td>\n",
       "      <td>26</td>\n",
       "      <td>62</td>\n",
       "      <td>30.58</td>\n",
       "      <td>...</td>\n",
       "      <td>-2.26</td>\n",
       "      <td>-16.27</td>\n",
       "      <td>-1.95</td>\n",
       "      <td>-6.25</td>\n",
       "      <td>-18.79</td>\n",
       "      <td>-1.99</td>\n",
       "      <td>-6.18</td>\n",
       "      <td>-23.41</td>\n",
       "      <td>-8.87</td>\n",
       "      <td>-10.83</td>\n",
       "    </tr>\n",
       "    <tr>\n",
       "      <th>2</th>\n",
       "      <td>53</td>\n",
       "      <td>25</td>\n",
       "      <td>49</td>\n",
       "      <td>99</td>\n",
       "      <td>51</td>\n",
       "      <td>93</td>\n",
       "      <td>84</td>\n",
       "      <td>26</td>\n",
       "      <td>58</td>\n",
       "      <td>63.20</td>\n",
       "      <td>...</td>\n",
       "      <td>-1.46</td>\n",
       "      <td>-15.92</td>\n",
       "      <td>-1.79</td>\n",
       "      <td>-4.64</td>\n",
       "      <td>-17.73</td>\n",
       "      <td>-0.48</td>\n",
       "      <td>-4.69</td>\n",
       "      <td>-19.97</td>\n",
       "      <td>-4.10</td>\n",
       "      <td>-7.07</td>\n",
       "    </tr>\n",
       "    <tr>\n",
       "      <th>3</th>\n",
       "      <td>59</td>\n",
       "      <td>26</td>\n",
       "      <td>49</td>\n",
       "      <td>103</td>\n",
       "      <td>47</td>\n",
       "      <td>92</td>\n",
       "      <td>82</td>\n",
       "      <td>25</td>\n",
       "      <td>56</td>\n",
       "      <td>55.54</td>\n",
       "      <td>...</td>\n",
       "      <td>2.68</td>\n",
       "      <td>-13.77</td>\n",
       "      <td>-2.53</td>\n",
       "      <td>-6.34</td>\n",
       "      <td>-22.03</td>\n",
       "      <td>-2.34</td>\n",
       "      <td>-6.60</td>\n",
       "      <td>-27.10</td>\n",
       "      <td>-7.99</td>\n",
       "      <td>-10.81</td>\n",
       "    </tr>\n",
       "    <tr>\n",
       "      <th>4</th>\n",
       "      <td>57</td>\n",
       "      <td>49</td>\n",
       "      <td>66</td>\n",
       "      <td>103</td>\n",
       "      <td>64</td>\n",
       "      <td>106</td>\n",
       "      <td>114</td>\n",
       "      <td>28</td>\n",
       "      <td>59</td>\n",
       "      <td>59.44</td>\n",
       "      <td>...</td>\n",
       "      <td>-2.94</td>\n",
       "      <td>-21.74</td>\n",
       "      <td>-1.64</td>\n",
       "      <td>-4.62</td>\n",
       "      <td>-23.74</td>\n",
       "      <td>-0.85</td>\n",
       "      <td>-5.50</td>\n",
       "      <td>-22.83</td>\n",
       "      <td>-2.74</td>\n",
       "      <td>-5.84</td>\n",
       "    </tr>\n",
       "    <tr>\n",
       "      <th>5</th>\n",
       "      <td>85</td>\n",
       "      <td>28</td>\n",
       "      <td>56</td>\n",
       "      <td>120</td>\n",
       "      <td>52</td>\n",
       "      <td>98</td>\n",
       "      <td>101</td>\n",
       "      <td>27</td>\n",
       "      <td>65</td>\n",
       "      <td>35.14</td>\n",
       "      <td>...</td>\n",
       "      <td>-10.28</td>\n",
       "      <td>-26.18</td>\n",
       "      <td>-1.89</td>\n",
       "      <td>-5.89</td>\n",
       "      <td>-34.92</td>\n",
       "      <td>-1.89</td>\n",
       "      <td>-8.05</td>\n",
       "      <td>-29.72</td>\n",
       "      <td>-1.94</td>\n",
       "      <td>-4.94</td>\n",
       "    </tr>\n",
       "  </tbody>\n",
       "</table>\n",
       "<p>6 rows × 27 columns</p>\n",
       "</div>"
      ],
      "text/plain": [
       "   b1  b2  b3   b4  b5   b6   b7  b8  b9  pred_minus_obs_H_b1  ...  \\\n",
       "0  39  36  57   91  59  101   93  27  60                75.70  ...   \n",
       "1  84  30  57  112  51   98   92  26  62                30.58  ...   \n",
       "2  53  25  49   99  51   93   84  26  58                63.20  ...   \n",
       "3  59  26  49  103  47   92   82  25  56                55.54  ...   \n",
       "4  57  49  66  103  64  106  114  28  59                59.44  ...   \n",
       "5  85  28  56  120  52   98  101  27  65                35.14  ...   \n",
       "\n",
       "   pred_minus_obs_H_b9  pred_minus_obs_S_b1  pred_minus_obs_S_b2  \\\n",
       "0                -2.36               -18.41                -1.88   \n",
       "1                -2.26               -16.27                -1.95   \n",
       "2                -1.46               -15.92                -1.79   \n",
       "3                 2.68               -13.77                -2.53   \n",
       "4                -2.94               -21.74                -1.64   \n",
       "5               -10.28               -26.18                -1.89   \n",
       "\n",
       "   pred_minus_obs_S_b3  pred_minus_obs_S_b4  pred_minus_obs_S_b5  \\\n",
       "0                -6.43               -21.03                -1.60   \n",
       "1                -6.25               -18.79                -1.99   \n",
       "2                -4.64               -17.73                -0.48   \n",
       "3                -6.34               -22.03                -2.34   \n",
       "4                -4.62               -23.74                -0.85   \n",
       "5                -5.89               -34.92                -1.89   \n",
       "\n",
       "   pred_minus_obs_S_b6  pred_minus_obs_S_b7  pred_minus_obs_S_b8  \\\n",
       "0                -6.18               -22.50                -5.20   \n",
       "1                -6.18               -23.41                -8.87   \n",
       "2                -4.69               -19.97                -4.10   \n",
       "3                -6.60               -27.10                -7.99   \n",
       "4                -5.50               -22.83                -2.74   \n",
       "5                -8.05               -29.72                -1.94   \n",
       "\n",
       "   pred_minus_obs_S_b9  \n",
       "0                -7.86  \n",
       "1               -10.83  \n",
       "2                -7.07  \n",
       "3               -10.81  \n",
       "4                -5.84  \n",
       "5                -4.94  \n",
       "\n",
       "[6 rows x 27 columns]"
      ]
     },
     "execution_count": 22,
     "metadata": {},
     "output_type": "execute_result"
    }
   ],
   "source": [
    "x.head(6)"
   ]
  },
  {
   "cell_type": "code",
   "execution_count": 23,
   "id": "1b1d3402",
   "metadata": {},
   "outputs": [],
   "source": [
    "#performing train_test_split\n",
    "x_train, x_test, y_train, y_test = train_test_split(x, y,test_size= 0.3)"
   ]
  },
  {
   "cell_type": "code",
   "execution_count": 24,
   "id": "2f91238e",
   "metadata": {},
   "outputs": [
    {
     "data": {
      "text/plain": [
       "((138, 27), (60, 27))"
      ]
     },
     "execution_count": 24,
     "metadata": {},
     "output_type": "execute_result"
    }
   ],
   "source": [
    "#taken train 70% test 30%\n",
    "x_train.shape,x_test.shape"
   ]
  },
  {
   "cell_type": "code",
   "execution_count": 25,
   "id": "a3a73c37",
   "metadata": {},
   "outputs": [],
   "source": [
    "accu=[]"
   ]
  },
  {
   "cell_type": "code",
   "execution_count": 26,
   "id": "286571ee",
   "metadata": {},
   "outputs": [
    {
     "name": "stderr",
     "output_type": "stream",
     "text": [
      "C:\\Users\\pro\\anaconda3\\lib\\site-packages\\sklearn\\linear_model\\_logistic.py:763: ConvergenceWarning: lbfgs failed to converge (status=1):\n",
      "STOP: TOTAL NO. of ITERATIONS REACHED LIMIT.\n",
      "\n",
      "Increase the number of iterations (max_iter) or scale the data as shown in:\n",
      "    https://scikit-learn.org/stable/modules/preprocessing.html\n",
      "Please also refer to the documentation for alternative solver options:\n",
      "    https://scikit-learn.org/stable/modules/linear_model.html#logistic-regression\n",
      "  n_iter_i = _check_optimize_result(\n"
     ]
    },
    {
     "data": {
      "text/plain": [
       "LogisticRegression()"
      ]
     },
     "execution_count": 26,
     "metadata": {},
     "output_type": "execute_result"
    }
   ],
   "source": [
    "lr=LogisticRegression()\n",
    "lr.fit(x_train, y_train)"
   ]
  },
  {
   "cell_type": "code",
   "execution_count": null,
   "id": "adf3087c",
   "metadata": {},
   "outputs": [],
   "source": []
  },
  {
   "cell_type": "code",
   "execution_count": 28,
   "id": "99493c7f",
   "metadata": {},
   "outputs": [
    {
     "data": {
      "text/plain": [
       "0.95"
      ]
     },
     "execution_count": 28,
     "metadata": {},
     "output_type": "execute_result"
    }
   ],
   "source": [
    "lr.score(x_test,y_test)"
   ]
  },
  {
   "cell_type": "code",
   "execution_count": 29,
   "id": "286ea09e",
   "metadata": {},
   "outputs": [],
   "source": [
    "#the difference between score of train values and test values is just 0.66667 from that we can say that it is neither underfit nor overfit"
   ]
  },
  {
   "cell_type": "code",
   "execution_count": 30,
   "id": "434d0bbf",
   "metadata": {},
   "outputs": [],
   "source": [
    "\n",
    "y_pred=lr.predict(x_test)"
   ]
  },
  {
   "cell_type": "code",
   "execution_count": 31,
   "id": "22e6e592",
   "metadata": {},
   "outputs": [
    {
     "data": {
      "text/plain": [
       "array([0, 1, 3, 0, 2, 3, 1, 0, 0, 3, 0, 1, 3, 1, 1, 0, 2, 3, 1, 1, 2, 0,\n",
       "       1, 3, 1, 3, 0, 0, 1, 3, 1, 3, 3, 2, 1, 3, 3, 3, 0, 2, 1, 0, 2, 3,\n",
       "       3, 3, 2, 0, 2, 2, 2, 1, 3, 3, 3, 0, 0, 0, 0, 0])"
      ]
     },
     "execution_count": 31,
     "metadata": {},
     "output_type": "execute_result"
    }
   ],
   "source": [
    "y_pred"
   ]
  },
  {
   "cell_type": "code",
   "execution_count": 32,
   "id": "1337a617",
   "metadata": {},
   "outputs": [
    {
     "name": "stdout",
     "output_type": "stream",
     "text": [
      "[[16  0  0  1]\n",
      " [ 0 14  0  0]\n",
      " [ 1  0  9  0]\n",
      " [ 0  0  1 18]]\n"
     ]
    }
   ],
   "source": [
    "# validation\n",
    "#confusion matrix\n",
    "confusion1=confusion_matrix(y_test, y_pred)\n",
    "print(confusion1)"
   ]
  },
  {
   "cell_type": "code",
   "execution_count": 33,
   "id": "4d933df7",
   "metadata": {},
   "outputs": [
    {
     "data": {
      "text/plain": [
       "<AxesSubplot:>"
      ]
     },
     "execution_count": 33,
     "metadata": {},
     "output_type": "execute_result"
    },
    {
     "data": {
      "image/png": "[encoded data removed]",
      "text/plain": [
       "<Figure size 432x288 with 2 Axes>"
      ]
     },
     "metadata": {
      "needs_background": "light"
     },
     "output_type": "display_data"
    }
   ],
   "source": [
    "sns.heatmap(confusion1)"
   ]
  },
  {
   "cell_type": "code",
   "execution_count": 56,
   "id": "fe0086be",
   "metadata": {},
   "outputs": [
    {
     "name": "stdout",
     "output_type": "stream",
     "text": [
      "accuracy: 0.95\n"
     ]
    }
   ],
   "source": [
    "#as our class has 4 types d,h,o,s we got 4x4 confusion matrix\n",
    "a = accuracy_score(y_test, y_pred)\n",
    "accu.append(a*100)\n",
    "print(\"accuracy:\",a)"
   ]
  },
  {
   "cell_type": "code",
   "execution_count": 35,
   "id": "04e064c4",
   "metadata": {},
   "outputs": [
    {
     "name": "stdout",
     "output_type": "stream",
     "text": [
      "accuracy: 0.95\n",
      "precision Score: 0.95\n",
      "Recall score: 0.95\n"
     ]
    }
   ],
   "source": [
    "print(\"accuracy:\",a)\n",
    "print(\"precision Score:\",precision_score(y_test,y_pred,average=\"weighted\"))\n",
    "print(\"Recall score:\",recall_score(y_test,y_pred,average=\"weighted\"))"
   ]
  },
  {
   "cell_type": "code",
   "execution_count": 36,
   "id": "49b18564",
   "metadata": {},
   "outputs": [],
   "source": [
    "from sklearn.tree import DecisionTreeClassifier\n",
    "from sklearn.ensemble import RandomForestClassifier, GradientBoostingClassifier"
   ]
  },
  {
   "cell_type": "code",
   "execution_count": 37,
   "id": "369b7e67",
   "metadata": {},
   "outputs": [
    {
     "name": "stdout",
     "output_type": "stream",
     "text": [
      "[0 1 3 0 2 3 1 0 0 0 1 1 3 1 1 0 2 3 1 1 2 0 1 3 1 3 0 0 1 3 1 3 3 2 1 1 3\n",
      " 3 0 2 1 0 2 3 3 3 2 0 3 2 0 1 3 3 3 0 0 0 0 0]\n"
     ]
    }
   ],
   "source": [
    "model2 = DecisionTreeClassifier(max_depth=3)\n",
    "model2.fit(x_train, y_train)\n",
    "y_pred2 = model2.predict(x_test)\n",
    "print(y_pred2)"
   ]
  },
  {
   "cell_type": "code",
   "execution_count": 38,
   "id": "67dd5b18",
   "metadata": {},
   "outputs": [
    {
     "name": "stdout",
     "output_type": "stream",
     "text": [
      "[[15  1  0  1]\n",
      " [ 0 14  0  0]\n",
      " [ 2  0  8  0]\n",
      " [ 1  1  0 17]]\n"
     ]
    }
   ],
   "source": [
    "confusion2=confusion_matrix(y_test, y_pred2)\n",
    "print(confusion2)"
   ]
  },
  {
   "cell_type": "code",
   "execution_count": 39,
   "id": "797d89bc",
   "metadata": {},
   "outputs": [
    {
     "data": {
      "text/plain": [
       "<AxesSubplot:>"
      ]
     },
     "execution_count": 39,
     "metadata": {},
     "output_type": "execute_result"
    },
    {
     "data": {
      "image/png": "[encoded data removed]",
      "text/plain": [
       "<Figure size 432x288 with 2 Axes>"
      ]
     },
     "metadata": {
      "needs_background": "light"
     },
     "output_type": "display_data"
    }
   ],
   "source": [
    "sns.heatmap(confusion2)"
   ]
  },
  {
   "cell_type": "code",
   "execution_count": 40,
   "id": "c552f32b",
   "metadata": {},
   "outputs": [
    {
     "name": "stdout",
     "output_type": "stream",
     "text": [
      "90.0\n"
     ]
    }
   ],
   "source": [
    "b=accuracy_score(y_test, y_pred2)\n",
    "print(b*100)"
   ]
  },
  {
   "cell_type": "code",
   "execution_count": 41,
   "id": "eb52b43a",
   "metadata": {},
   "outputs": [],
   "source": [
    "accu.append(b*100)"
   ]
  },
  {
   "cell_type": "code",
   "execution_count": 42,
   "id": "28e44df7",
   "metadata": {},
   "outputs": [
    {
     "data": {
      "text/plain": [
       "RandomForestClassifier(max_depth=6)"
      ]
     },
     "execution_count": 42,
     "metadata": {},
     "output_type": "execute_result"
    }
   ],
   "source": [
    "model3=RandomForestClassifier(max_depth=6)\n",
    "model3.fit(x_train,y_train)"
   ]
  },
  {
   "cell_type": "code",
   "execution_count": 43,
   "id": "bcabf551",
   "metadata": {},
   "outputs": [
    {
     "name": "stdout",
     "output_type": "stream",
     "text": [
      "[0 1 3 0 2 3 1 0 0 0 0 1 3 1 1 0 2 3 1 1 2 0 1 3 1 3 0 0 1 3 1 3 3 2 1 3 3\n",
      " 3 0 2 1 0 2 3 3 3 2 0 2 2 2 1 3 3 3 0 0 0 0 0]\n"
     ]
    }
   ],
   "source": [
    "y_pred3 = model3.predict(x_test)\n",
    "print(y_pred3)"
   ]
  },
  {
   "cell_type": "code",
   "execution_count": 44,
   "id": "feaade0f",
   "metadata": {},
   "outputs": [
    {
     "name": "stdout",
     "output_type": "stream",
     "text": [
      "[[15  1  0  1]\n",
      " [ 0 14  0  0]\n",
      " [ 2  0  8  0]\n",
      " [ 1  1  0 17]]\n"
     ]
    }
   ],
   "source": [
    "confusion3=confusion_matrix(y_test, y_pred2)\n",
    "print(confusion3)"
   ]
  },
  {
   "cell_type": "code",
   "execution_count": 45,
   "id": "8a590e1e",
   "metadata": {},
   "outputs": [
    {
     "data": {
      "text/plain": [
       "<AxesSubplot:>"
      ]
     },
     "execution_count": 45,
     "metadata": {},
     "output_type": "execute_result"
    },
    {
     "data": {
      "image/png": "[encoded data removed]",
      "text/plain": [
       "<Figure size 432x288 with 2 Axes>"
      ]
     },
     "metadata": {
      "needs_background": "light"
     },
     "output_type": "display_data"
    }
   ],
   "source": [
    "sns.heatmap(confusion3)"
   ]
  },
  {
   "cell_type": "code",
   "execution_count": 46,
   "id": "0fafc541",
   "metadata": {},
   "outputs": [
    {
     "name": "stdout",
     "output_type": "stream",
     "text": [
      "93.33333333333333\n"
     ]
    }
   ],
   "source": [
    "c=accuracy_score(y_test, y_pred3)\n",
    "print(c*100)"
   ]
  },
  {
   "cell_type": "code",
   "execution_count": 47,
   "id": "c4ab5f81",
   "metadata": {},
   "outputs": [],
   "source": [
    "accu.append(c*100)"
   ]
  },
  {
   "cell_type": "code",
   "execution_count": 48,
   "id": "657843d6",
   "metadata": {},
   "outputs": [
    {
     "name": "stdout",
     "output_type": "stream",
     "text": [
      "[0 1 3 0 2 3 1 0 0 3 0 1 3 1 1 0 2 3 1 1 2 0 1 3 1 3 0 0 1 3 1 3 3 2 1 3 3\n",
      " 3 0 2 1 0 2 3 3 3 2 0 2 2 0 1 3 3 3 0 0 0 0 0]\n"
     ]
    }
   ],
   "source": [
    "model4 = GradientBoostingClassifier(n_estimators=300, learning_rate=0.1)\n",
    "model4.fit(x_train, y_train)\n",
    "y_pred4 = model4.predict(x_test)\n",
    "print(y_pred4)"
   ]
  },
  {
   "cell_type": "code",
   "execution_count": 49,
   "id": "3ae6ab9a",
   "metadata": {},
   "outputs": [
    {
     "name": "stdout",
     "output_type": "stream",
     "text": [
      "[[15  1  0  1]\n",
      " [ 0 14  0  0]\n",
      " [ 2  0  8  0]\n",
      " [ 1  1  0 17]]\n"
     ]
    }
   ],
   "source": [
    "confusion4=confusion_matrix(y_test, y_pred2)\n",
    "print(confusion4)"
   ]
  },
  {
   "cell_type": "code",
   "execution_count": 50,
   "id": "2da57d7c",
   "metadata": {},
   "outputs": [
    {
     "data": {
      "text/plain": [
       "<AxesSubplot:>"
      ]
     },
     "execution_count": 50,
     "metadata": {},
     "output_type": "execute_result"
    },
    {
     "data": {
      "image/png": "[encoded data removed]",
      "text/plain": [
       "<Figure size 432x288 with 2 Axes>"
      ]
     },
     "metadata": {
      "needs_background": "light"
     },
     "output_type": "display_data"
    }
   ],
   "source": [
    "sns.heatmap(confusion4)"
   ]
  },
  {
   "cell_type": "code",
   "execution_count": 51,
   "id": "cf6ba252",
   "metadata": {},
   "outputs": [
    {
     "name": "stdout",
     "output_type": "stream",
     "text": [
      "93.33333333333333\n"
     ]
    }
   ],
   "source": [
    "d=accuracy_score(y_test, y_pred4)\n",
    "print(d*100)"
   ]
  },
  {
   "cell_type": "code",
   "execution_count": 52,
   "id": "3adc41cd",
   "metadata": {},
   "outputs": [
    {
     "data": {
      "image/png": "[encoded data removed]",
      "text/plain": [
       "<Figure size 432x288 with 1 Axes>"
      ]
     },
     "metadata": {
      "needs_background": "light"
     },
     "output_type": "display_data"
    }
   ],
   "source": [
    "\n",
    "accu.append(d*100)\n",
    "alogs=[0,1,2,3]\n",
    "plt.bar(alogs,accu,width=0.2)\n",
    "plt.title('Accuracy Differences')\n",
    "plt.xlabel('Algorithms')\n",
    "plt.ylabel('Accuracy')\n",
    "plt.xticks(rotation=50)\n",
    "plt.show()"
   ]
  },
  {
   "cell_type": "code",
   "execution_count": 53,
   "id": "949e6358",
   "metadata": {},
   "outputs": [
    {
     "name": "stdout",
     "output_type": "stream",
     "text": [
      "[95.0, 90.0, 93.33333333333333, 93.33333333333333]\n"
     ]
    }
   ],
   "source": [
    "print(accu)"
   ]
  },
  {
   "cell_type": "code",
   "execution_count": 54,
   "id": "575e3238",
   "metadata": {},
   "outputs": [],
   "source": [
    "#logestic regression got the best accuracy"
   ]
  },
  {
   "cell_type": "code",
   "execution_count": 57,
   "id": "d279f7f3",
   "metadata": {},
   "outputs": [
    {
     "data": {
      "text/plain": [
       "array([0, 1, 3, 0, 2, 3, 1, 0, 0, 3, 0, 1, 3, 1, 1, 0, 2, 3, 1, 1, 2, 0,\n",
       "       1, 3, 1, 3, 0, 0, 1, 3, 1, 3, 3, 2, 1, 3, 3, 3, 0, 2, 1, 0, 2, 3,\n",
       "       3, 3, 2, 0, 2, 2, 2, 1, 3, 3, 3, 0, 0, 0, 0, 0])"
      ]
     },
     "execution_count": 57,
     "metadata": {},
     "output_type": "execute_result"
    }
   ],
   "source": [
    "pred_y"
   ]
  },
  {
   "cell_type": "code",
   "execution_count": 58,
   "id": "871e3b2b",
   "metadata": {},
   "outputs": [
    {
     "name": "stdout",
     "output_type": "stream",
     "text": [
      "0.95\n"
     ]
    }
   ],
   "source": [
    "print(a)"
   ]
  },
  {
   "cell_type": "code",
   "execution_count": null,
   "id": "5ea0cfb1",
   "metadata": {},
   "outputs": [],
   "source": []
  }
 ],
 "metadata": {
  "kernelspec": {
   "display_name": "Python 3",
   "language": "python",
   "name": "python3"
  },
  "language_info": {
   "codemirror_mode": {
    "name": "ipython",
    "version": 3
   },
   "file_extension": ".py",
   "mimetype": "text/x-python",
   "name": "python",
   "nbconvert_exporter": "python",
   "pygments_lexer": "ipython3",
   "version": "3.8.8"
  }
 },
 "nbformat": 4,
 "nbformat_minor": 5
}
